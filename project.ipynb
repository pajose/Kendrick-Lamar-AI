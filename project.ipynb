{
 "cells": [
  {
   "cell_type": "markdown",
   "metadata": {},
   "source": [
    "# Project Notebook\n",
    "\n",
    "Authors: Patrick Jose & Christian Poon"
   ]
  },
  {
   "cell_type": "markdown",
   "metadata": {},
   "source": [
    "### Base Markov Model Parameters"
   ]
  },
  {
   "cell_type": "markdown",
   "metadata": {},
   "source": [
    "This model takes in two parameters: the file name for the lyrics text file, and an optional file of stored taggedTokens. The optional taggedTokens file makes creating the model run faster."
   ]
  },
  {
   "cell_type": "code",
   "execution_count": 21,
   "metadata": {},
   "outputs": [],
   "source": [
    "from BaseMarkovModel import BaseMarkovModel\n",
    "\n",
    "artist = \"kendrick_lamar\"\n",
    "file_path = str(artist) + \"_lyrics.txt\"\n",
    "taggedTokens = 'taggedTokens.pkl'"
   ]
  },
  {
   "cell_type": "markdown",
   "metadata": {},
   "source": [
    "### Base Markov Model Main Script"
   ]
  },
  {
   "cell_type": "code",
   "execution_count": 25,
   "metadata": {},
   "outputs": [
    {
     "name": "stdout",
     "output_type": "stream",
     "text": [
      "Loading saved tagged tokens from taggedTokens.pkl \n",
      "\n",
      "Diem, you a kite i deprive this house you to \n",
      "Ashamed how many obstacles at the same accomplice my day, bleu\n",
      "Odd, i had played nowadays niggas better yet are \n",
      "Likes of excellence, kill 'em for you so feel lebar\n",
      "Cheddar on the voice and i rap recordings i lead \n",
      "Joke's on permanent is a coward i wanna adore doors bred\n",
      "\n",
      "Four-page letter saying i'm popping up pussy poppin' king \n",
      "Usher raymond let me through your passion for this xiaoping\n",
      "Fed-ex 211, got you can tell the time he talking \n",
      "Profit, ah now she filed the collar so diverse gawking\n",
      "Infamous, sensitive n-word control lift the mood for the travelin' \n",
      "Trials and moon, you clock in slavery, but if \n",
      "\n",
      "Freak it for this is what i can't run \n",
      "Weakness fear, fuck about me as my niggas my mood puget-\n",
      "Sour emotions when you're mayweather size ride by it, \n",
      "Eyebrows it's karma and this that fist in compton, tit\n",
      "Planes fallin' yeah even shooters can be calling oh, what \n",
      "Boomin' that's what they gon' tell 'em the floor, allnutt\n",
      "\n",
      "\n",
      "Finished writing to kendrick_lamar_base_markov_rap.txt!\n"
     ]
    }
   ],
   "source": [
    "BaseModel = BaseMarkovModel(file_path,taggedTokens)\n",
    "final_rap = \"\"\n",
    "for i in range(3):\n",
    "    verse = BaseModel.createVerse(9, 6)\n",
    "    final_rap += verse + \"\\n\"\n",
    "    print(verse)\n",
    "with open(str(artist) + \"_base_markov_rap.txt\", 'w', encoding='utf8') as f:\n",
    "    [f.write(final_rap)]\n",
    "print(\"\\nFinished writing to \" + str(artist) + \"_base_markov_rap.txt!\")"
   ]
  },
  {
   "cell_type": "markdown",
   "metadata": {},
   "source": [
    "### LSTM Model Parameters"
   ]
  },
  {
   "cell_type": "markdown",
   "metadata": {},
   "source": [
    "Set up the model parameters, such as the artist of interest, the name of the file that we want to grab lyrics from, and the LSTM parameters for training. Additionally, specify the maximum number of syllables each generated line must have in order to change up the results."
   ]
  },
  {
   "cell_type": "code",
   "execution_count": 26,
   "metadata": {},
   "outputs": [],
   "source": [
    "from LSTMModel import LSTMModel\n",
    "\n",
    "artist = \"kendrick_lamar\"\n",
    "file_path = str(artist) + \"_lyrics.txt\"\n",
    "batch_size = 2\n",
    "epochs = 30\n",
    "max_syllables = 14"
   ]
  },
  {
   "cell_type": "markdown",
   "metadata": {},
   "source": [
    "### LSTM Main Script"
   ]
  },
  {
   "cell_type": "markdown",
   "metadata": {},
   "source": [
    "This script sets up the LSTM model and decides what needs to be done based on whether or not you want to train the model. If you want to train the model, your lyrics list will contain Kendrick Lamar's original lyrics. Otherwise, the lyrics list will contain the generated lyrics from the Markov model. Regardless, we want to collect the rhyme endings from the lyrics, and then gather the rhyme and syllable data for each line. In the last conditional step, if you want to train the model, then you will build the dataset on the rap analytics and train the model. Otherwise, you will write the neural "
   ]
  },
  {
   "cell_type": "code",
   "execution_count": 27,
   "metadata": {},
   "outputs": [
    {
     "name": "stdout",
     "output_type": "stream",
     "text": [
      "_________________________________________________________________\n",
      "Layer (type)                 Output Shape              Param #   \n",
      "=================================================================\n",
      "lstm_9 (LSTM)                (None, 1, 32)             4480      \n",
      "_________________________________________________________________\n",
      "dropout_5 (Dropout)          (None, 1, 32)             0         \n",
      "_________________________________________________________________\n",
      "dense_5 (Dense)              (None, 1, 16)             528       \n",
      "_________________________________________________________________\n",
      "lstm_10 (LSTM)               (None, 1, 2)              152       \n",
      "=================================================================\n",
      "Total params: 5,160\n",
      "Trainable params: 5,160\n",
      "Non-trainable params: 0\n",
      "_________________________________________________________________\n",
      "Loading saved weights from kendrick_lamar.h5\n",
      "\n",
      "Loading saved rhyme endings from kendrick_lamar_rhymes.txt\n",
      "\n",
      "Some say it's only one that thirst for necessity\n",
      "This shit was meant to be the messiah of society\n",
      "Jason keaton, i can fuck it i got no money\n",
      "Why you maney-ass rap niggas looking funny\n",
      "Not a rap on how we just pray we keep on philly\n",
      "Its 2004 and i'm back chilling with two hoes in here say\n",
      "I live forever baby, count it all go away\n",
      "Livin life in a stadium, pack it the legal way\n",
      "We apologize if you never let it, go\n",
      "When you walked inside your desire to blow\n",
      "A louis belt will never ever catch me, no, no, no\n",
      "Ali recorded and i'm back in proper context\n",
      "We could never rewrite history in a minute\n",
      "I done been through a straw, fuck a pit-stop or what not\n",
      "At 3:14, it's time to be a typical homy\n",
      "Go at a stranger like i can't even keep the rest\n",
      "But homie you made me an engine that go real fast\n",
      "I don't know if you need to be lonely\n",
      "We all seem to separate, eventually\n",
      "I made an oath when my mental telepathy\n",
      "I made an oath when my life's entirely\n",
      "Hundred hoes, hundred fold, this my third felony\n",
      "On behalf of the world on my grind, all ready\n",
      "Poppa flicking blunt ashes all on a thursday\n",
      "And i stand by her, she be like them grown ups hey\n",
      "\n",
      "Finished writing to kendrick_lamar_neural_network_rap.txt!\n"
     ]
    }
   ],
   "source": [
    "neural_network_model = LSTMModel(artist, file_path, batch_size, epochs, max_syllables, training=False)\n",
    "    \n",
    "num_lines = 24 # Number of lines after the seed line (number of lines to generate = num_lines + 1)\n",
    "\n",
    "if neural_network_model.training:\n",
    "    lyrics = neural_network_model.get_artist_lyrics(file_path)\n",
    "else:\n",
    "    lyrics = neural_network_model.generate_lyrics()\n",
    "\n",
    "rhyming_endings = neural_network_model.get_rhyming_endings(lyrics)\n",
    "\n",
    "rap_analytics = neural_network_model.get_lyric_analytics(lyrics, rhyming_endings)\n",
    "\n",
    "if neural_network_model.training:\n",
    "    X, y = neural_network_model.build_dataset(rap_analytics)\n",
    "    neural_network_model.train(X, y)\n",
    "else:\n",
    "    vector_data = neural_network_model.vectorize_rap(file_path, rhyming_endings, num_lines)\n",
    "    final_rap = neural_network_model.convert_vector_to_rap(vector_data, rap_analytics, lyrics, rhyming_endings)\n",
    "    with open(str(artist) + \"_neural_network_rap.txt\", 'w', encoding='utf8') as f:\n",
    "        [f.write(lyric+\"\\n\") for lyric in final_rap]\n",
    "    print(\"\\nFinished writing to \" + str(artist) + \"_neural_network_rap.txt!\")"
   ]
  }
 ],
 "metadata": {
  "kernelspec": {
   "display_name": "Python 3",
   "language": "python",
   "name": "python3"
  },
  "language_info": {
   "codemirror_mode": {
    "name": "ipython",
    "version": 3
   },
   "file_extension": ".py",
   "mimetype": "text/x-python",
   "name": "python",
   "nbconvert_exporter": "python",
   "pygments_lexer": "ipython3",
   "version": "3.6.4"
  }
 },
 "nbformat": 4,
 "nbformat_minor": 2
}
